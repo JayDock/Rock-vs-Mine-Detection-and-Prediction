{
  "nbformat": 4,
  "nbformat_minor": 0,
  "metadata": {
    "colab": {
      "name": "Rock, Paper, Scissors Game.ipynb",
      "provenance": [],
      "authorship_tag": "ABX9TyOz3IG9baPxpnmJTlvPphvc",
      "include_colab_link": true
    },
    "kernelspec": {
      "name": "python3",
      "display_name": "Python 3"
    },
    "language_info": {
      "name": "python"
    }
  },
  "cells": [
    {
      "cell_type": "markdown",
      "metadata": {
        "id": "view-in-github",
        "colab_type": "text"
      },
      "source": [
        "<a href=\"https://colab.research.google.com/github/JayDock/Rock-vs-Mine-Detection-and-Prediction/blob/main/Rock%2C_Paper%2C_Scissors_Game.ipynb\" target=\"_parent\"><img src=\"https://colab.research.google.com/assets/colab-badge.svg\" alt=\"Open In Colab\"/></a>"
      ]
    },
    {
      "cell_type": "code",
      "metadata": {
        "id": "NESj7uF8TRNc"
      },
      "source": [
        ""
      ],
      "execution_count": null,
      "outputs": []
    },
    {
      "cell_type": "code",
      "metadata": {
        "colab": {
          "base_uri": "https://localhost:8080/"
        },
        "id": "xF80WTqy4PKg",
        "outputId": "e57ff411-4e49-410e-9e91-3fab35fc4f59"
      },
      "source": [
        "import random\n",
        "\n",
        "input(\"Welcome to Rock, Paper, Scissors Game..Press enter to start!\")\n",
        "\n",
        "user_score = 0\n",
        "cpu_score = 0\n",
        "\n",
        "while True:\n",
        "\n",
        "  user_choice = input(\"Rock,Paper or Scissors: \").lower() \n",
        "\n",
        "  while user_choice != 'rock' and user_choice != 'paper' and user_choice != 'scissors':\n",
        "      user_choice = input(\"Invalid input, please try again \").lower()\n",
        "\n",
        "  random_num = random.randint(0,2)\n",
        "  if random_num == 0:\n",
        "    cpu_choice = 'rock'\n",
        "  elif random_num == 1:\n",
        "    cpu_choice = 'paper'\n",
        "  elif random_num == 2:\n",
        "    cpu_choice = 'scissors'\n",
        "\n",
        "  print()\n",
        "  print('Your choice: ', user_choice)\n",
        "  print('computer choice: ', cpu_choice)\n",
        "  print()\n",
        "\n",
        "\n",
        "  if user_choice == 'rock':\n",
        "    if cpu_choice == 'rock':\n",
        "      print(\"Tie\")\n",
        "    elif cpu_choice == 'paper':\n",
        "      print(\"You Lose\")\n",
        "      cpu_score += 1\n",
        "    elif cpu_choice == 'scissors':\n",
        "      print(\"You Won\")\n",
        "      user_score += 1\n",
        "    \n",
        "  elif user_choice == 'paper':\n",
        "    if cpu_choice == 'paper':\n",
        "      print(\"Tie\")\n",
        "    elif cpu_choice == 'rock':\n",
        "      print(\"You Won\")\n",
        "      user_score += 1\n",
        "    elif cpu_choice == 'scissors':\n",
        "      print(\"You Lose\")\n",
        "      cpu_score += 1\n",
        "\n",
        "  elif user_choice == 'scissors':\n",
        "    if cpu_choice == 'scissors':\n",
        "      print(\"Tie\")\n",
        "    elif cpu_choice == 'rock':\n",
        "      print(\"You Lose\")\n",
        "      cpu_score += 1\n",
        "    elif cpu_choice == 'paper':\n",
        "      print(\"You Won\")\n",
        "      user_score += 1\n",
        "\n",
        "  print(\"You have \", user_score,\" wins\")\n",
        "  print(\"The computer has \", cpu_score,\" wins\")\n",
        "\n",
        "  print()\n",
        "  repeat = input(\"Play again? (Y/N) \").lower()\n",
        "  while repeat != 'n' and repeat != 'y':\n",
        "    repeat = print(\"invalid input.Please try again \").lower()\n",
        "  \n",
        "\n",
        "  if repeat == 'n':\n",
        "    break\n",
        "\n",
        "\n",
        "    \n",
        "\n",
        "\n",
        "\n",
        "\n",
        "\n",
        "\n"
      ],
      "execution_count": null,
      "outputs": [
        {
          "output_type": "stream",
          "text": [
            "Welcome to Rock, Paper, Scissors Game..Press enter to start!\n",
            "Rock,Paper or Scissors: rock\n",
            "\n",
            "Your choice:  rock\n",
            "computer choice:  rock\n",
            "\n",
            "Tie\n",
            "You have  0  wins\n",
            "The computer has  0  wins\n",
            "\n",
            "Play again? (Y/N) y\n",
            "Rock,Paper or Scissors: paper\n",
            "\n",
            "Your choice:  paper\n",
            "computer choice:  scissors\n",
            "\n",
            "You Lose\n",
            "You have  0  wins\n",
            "The computer has  1  wins\n",
            "\n"
          ],
          "name": "stdout"
        }
      ]
    }
  ]
}